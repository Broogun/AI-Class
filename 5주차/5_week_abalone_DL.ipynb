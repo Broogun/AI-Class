{
 "cells": [
  {
   "cell_type": "markdown",
   "metadata": {},
   "source": [
    "## **abalone.csv DL Regression**"
   ]
  },
  {
   "cell_type": "code",
   "execution_count": 115,
   "metadata": {},
   "outputs": [],
   "source": [
    "import numpy as np\n",
    "import torch\n",
    "import torch.nn as nn\n",
    "import torch.optim as optim\n",
    "from torch.utils.data import Dataset, DataLoader, TensorDataset\n",
    "from sklearn.metrics import precision_score, recall_score, f1_score, roc_auc_score, confusion_matrix, ConfusionMatrixDisplay\n",
    "from torchsummary import summary"
   ]
  },
  {
   "cell_type": "code",
   "execution_count": 100,
   "metadata": {},
   "outputs": [
    {
     "data": {
      "application/vnd.microsoft.datawrangler.viewer.v0+json": {
       "columns": [
        {
         "name": "index",
         "rawType": "int64",
         "type": "integer"
        },
        {
         "name": "id",
         "rawType": "int64",
         "type": "integer"
        },
        {
         "name": "Sex",
         "rawType": "object",
         "type": "string"
        },
        {
         "name": "Length",
         "rawType": "float64",
         "type": "float"
        },
        {
         "name": "Diameter",
         "rawType": "float64",
         "type": "float"
        },
        {
         "name": "Height",
         "rawType": "float64",
         "type": "float"
        },
        {
         "name": "Whole_weight",
         "rawType": "float64",
         "type": "float"
        },
        {
         "name": "Shucked_weight",
         "rawType": "float64",
         "type": "float"
        },
        {
         "name": "Viscera_weight",
         "rawType": "float64",
         "type": "float"
        },
        {
         "name": "Shell_weight",
         "rawType": "float64",
         "type": "float"
        },
        {
         "name": "Rings",
         "rawType": "int64",
         "type": "integer"
        }
       ],
       "conversionMethod": "pd.DataFrame",
       "ref": "93c90016-caad-441d-b14e-8a50ea2973c3",
       "rows": [
        [
         "0",
         "0",
         "M",
         "0.455",
         "0.365",
         "0.095",
         "0.514",
         "0.2245",
         "0.101",
         "0.15",
         "15"
        ],
        [
         "1",
         "1",
         "M",
         "0.35",
         "0.265",
         "0.09",
         "0.2255",
         "0.0995",
         "0.0485",
         "0.07",
         "7"
        ],
        [
         "2",
         "2",
         "F",
         "0.53",
         "0.42",
         "0.135",
         "0.677",
         "0.2565",
         "0.1415",
         "0.21",
         "9"
        ],
        [
         "3",
         "3",
         "M",
         "0.44",
         "0.365",
         "0.125",
         "0.516",
         "0.2155",
         "0.114",
         "0.155",
         "10"
        ],
        [
         "4",
         "4",
         "I",
         "0.33",
         "0.255",
         "0.08",
         "0.205",
         "0.0895",
         "0.0395",
         "0.055",
         "7"
        ]
       ],
       "shape": {
        "columns": 10,
        "rows": 5
       }
      },
      "text/html": [
       "<div>\n",
       "<style scoped>\n",
       "    .dataframe tbody tr th:only-of-type {\n",
       "        vertical-align: middle;\n",
       "    }\n",
       "\n",
       "    .dataframe tbody tr th {\n",
       "        vertical-align: top;\n",
       "    }\n",
       "\n",
       "    .dataframe thead th {\n",
       "        text-align: right;\n",
       "    }\n",
       "</style>\n",
       "<table border=\"1\" class=\"dataframe\">\n",
       "  <thead>\n",
       "    <tr style=\"text-align: right;\">\n",
       "      <th></th>\n",
       "      <th>id</th>\n",
       "      <th>Sex</th>\n",
       "      <th>Length</th>\n",
       "      <th>Diameter</th>\n",
       "      <th>Height</th>\n",
       "      <th>Whole_weight</th>\n",
       "      <th>Shucked_weight</th>\n",
       "      <th>Viscera_weight</th>\n",
       "      <th>Shell_weight</th>\n",
       "      <th>Rings</th>\n",
       "    </tr>\n",
       "  </thead>\n",
       "  <tbody>\n",
       "    <tr>\n",
       "      <th>0</th>\n",
       "      <td>0</td>\n",
       "      <td>M</td>\n",
       "      <td>0.455</td>\n",
       "      <td>0.365</td>\n",
       "      <td>0.095</td>\n",
       "      <td>0.5140</td>\n",
       "      <td>0.2245</td>\n",
       "      <td>0.1010</td>\n",
       "      <td>0.150</td>\n",
       "      <td>15</td>\n",
       "    </tr>\n",
       "    <tr>\n",
       "      <th>1</th>\n",
       "      <td>1</td>\n",
       "      <td>M</td>\n",
       "      <td>0.350</td>\n",
       "      <td>0.265</td>\n",
       "      <td>0.090</td>\n",
       "      <td>0.2255</td>\n",
       "      <td>0.0995</td>\n",
       "      <td>0.0485</td>\n",
       "      <td>0.070</td>\n",
       "      <td>7</td>\n",
       "    </tr>\n",
       "    <tr>\n",
       "      <th>2</th>\n",
       "      <td>2</td>\n",
       "      <td>F</td>\n",
       "      <td>0.530</td>\n",
       "      <td>0.420</td>\n",
       "      <td>0.135</td>\n",
       "      <td>0.6770</td>\n",
       "      <td>0.2565</td>\n",
       "      <td>0.1415</td>\n",
       "      <td>0.210</td>\n",
       "      <td>9</td>\n",
       "    </tr>\n",
       "    <tr>\n",
       "      <th>3</th>\n",
       "      <td>3</td>\n",
       "      <td>M</td>\n",
       "      <td>0.440</td>\n",
       "      <td>0.365</td>\n",
       "      <td>0.125</td>\n",
       "      <td>0.5160</td>\n",
       "      <td>0.2155</td>\n",
       "      <td>0.1140</td>\n",
       "      <td>0.155</td>\n",
       "      <td>10</td>\n",
       "    </tr>\n",
       "    <tr>\n",
       "      <th>4</th>\n",
       "      <td>4</td>\n",
       "      <td>I</td>\n",
       "      <td>0.330</td>\n",
       "      <td>0.255</td>\n",
       "      <td>0.080</td>\n",
       "      <td>0.2050</td>\n",
       "      <td>0.0895</td>\n",
       "      <td>0.0395</td>\n",
       "      <td>0.055</td>\n",
       "      <td>7</td>\n",
       "    </tr>\n",
       "  </tbody>\n",
       "</table>\n",
       "</div>"
      ],
      "text/plain": [
       "   id Sex  Length  Diameter  Height  Whole_weight  Shucked_weight  \\\n",
       "0   0   M   0.455     0.365   0.095        0.5140          0.2245   \n",
       "1   1   M   0.350     0.265   0.090        0.2255          0.0995   \n",
       "2   2   F   0.530     0.420   0.135        0.6770          0.2565   \n",
       "3   3   M   0.440     0.365   0.125        0.5160          0.2155   \n",
       "4   4   I   0.330     0.255   0.080        0.2050          0.0895   \n",
       "\n",
       "   Viscera_weight  Shell_weight  Rings  \n",
       "0          0.1010         0.150     15  \n",
       "1          0.0485         0.070      7  \n",
       "2          0.1415         0.210      9  \n",
       "3          0.1140         0.155     10  \n",
       "4          0.0395         0.055      7  "
      ]
     },
     "execution_count": 100,
     "metadata": {},
     "output_type": "execute_result"
    }
   ],
   "source": [
    "import pandas as pd\n",
    "import os\n",
    "\n",
    "# 데이터 불러오기\n",
    "file_name = 'abalone.csv'\n",
    "full_file_path = os.path.join(os.getcwd() + \"\\\\\" + file_name)\n",
    "df = pd.read_csv(full_file_path)\n",
    "df.head()"
   ]
  },
  {
   "cell_type": "code",
   "execution_count": 101,
   "metadata": {},
   "outputs": [
    {
     "data": {
      "text/plain": [
       "id                0\n",
       "Sex               0\n",
       "Length            0\n",
       "Diameter          0\n",
       "Height            0\n",
       "Whole_weight      0\n",
       "Shucked_weight    0\n",
       "Viscera_weight    0\n",
       "Shell_weight      0\n",
       "Rings             0\n",
       "dtype: int64"
      ]
     },
     "execution_count": 101,
     "metadata": {},
     "output_type": "execute_result"
    }
   ],
   "source": [
    "# 결측치 확인\n",
    "df.isna().sum()"
   ]
  },
  {
   "cell_type": "code",
   "execution_count": 102,
   "metadata": {},
   "outputs": [
    {
     "data": {
      "application/vnd.microsoft.datawrangler.viewer.v0+json": {
       "columns": [
        {
         "name": "index",
         "rawType": "int64",
         "type": "integer"
        },
        {
         "name": "id",
         "rawType": "int64",
         "type": "integer"
        },
        {
         "name": "Sex",
         "rawType": "int32",
         "type": "integer"
        },
        {
         "name": "Length",
         "rawType": "float64",
         "type": "float"
        },
        {
         "name": "Diameter",
         "rawType": "float64",
         "type": "float"
        },
        {
         "name": "Height",
         "rawType": "float64",
         "type": "float"
        },
        {
         "name": "Whole_weight",
         "rawType": "float64",
         "type": "float"
        },
        {
         "name": "Shucked_weight",
         "rawType": "float64",
         "type": "float"
        },
        {
         "name": "Viscera_weight",
         "rawType": "float64",
         "type": "float"
        },
        {
         "name": "Shell_weight",
         "rawType": "float64",
         "type": "float"
        },
        {
         "name": "Rings",
         "rawType": "int64",
         "type": "integer"
        }
       ],
       "conversionMethod": "pd.DataFrame",
       "ref": "3f730588-a96e-4b23-8160-02171015c755",
       "rows": [
        [
         "0",
         "0",
         "2",
         "0.455",
         "0.365",
         "0.095",
         "0.514",
         "0.2245",
         "0.101",
         "0.15",
         "15"
        ],
        [
         "1",
         "1",
         "2",
         "0.35",
         "0.265",
         "0.09",
         "0.2255",
         "0.0995",
         "0.0485",
         "0.07",
         "7"
        ],
        [
         "2",
         "2",
         "0",
         "0.53",
         "0.42",
         "0.135",
         "0.677",
         "0.2565",
         "0.1415",
         "0.21",
         "9"
        ],
        [
         "3",
         "3",
         "2",
         "0.44",
         "0.365",
         "0.125",
         "0.516",
         "0.2155",
         "0.114",
         "0.155",
         "10"
        ],
        [
         "4",
         "4",
         "1",
         "0.33",
         "0.255",
         "0.08",
         "0.205",
         "0.0895",
         "0.0395",
         "0.055",
         "7"
        ]
       ],
       "shape": {
        "columns": 10,
        "rows": 5
       }
      },
      "text/html": [
       "<div>\n",
       "<style scoped>\n",
       "    .dataframe tbody tr th:only-of-type {\n",
       "        vertical-align: middle;\n",
       "    }\n",
       "\n",
       "    .dataframe tbody tr th {\n",
       "        vertical-align: top;\n",
       "    }\n",
       "\n",
       "    .dataframe thead th {\n",
       "        text-align: right;\n",
       "    }\n",
       "</style>\n",
       "<table border=\"1\" class=\"dataframe\">\n",
       "  <thead>\n",
       "    <tr style=\"text-align: right;\">\n",
       "      <th></th>\n",
       "      <th>id</th>\n",
       "      <th>Sex</th>\n",
       "      <th>Length</th>\n",
       "      <th>Diameter</th>\n",
       "      <th>Height</th>\n",
       "      <th>Whole_weight</th>\n",
       "      <th>Shucked_weight</th>\n",
       "      <th>Viscera_weight</th>\n",
       "      <th>Shell_weight</th>\n",
       "      <th>Rings</th>\n",
       "    </tr>\n",
       "  </thead>\n",
       "  <tbody>\n",
       "    <tr>\n",
       "      <th>0</th>\n",
       "      <td>0</td>\n",
       "      <td>2</td>\n",
       "      <td>0.455</td>\n",
       "      <td>0.365</td>\n",
       "      <td>0.095</td>\n",
       "      <td>0.5140</td>\n",
       "      <td>0.2245</td>\n",
       "      <td>0.1010</td>\n",
       "      <td>0.150</td>\n",
       "      <td>15</td>\n",
       "    </tr>\n",
       "    <tr>\n",
       "      <th>1</th>\n",
       "      <td>1</td>\n",
       "      <td>2</td>\n",
       "      <td>0.350</td>\n",
       "      <td>0.265</td>\n",
       "      <td>0.090</td>\n",
       "      <td>0.2255</td>\n",
       "      <td>0.0995</td>\n",
       "      <td>0.0485</td>\n",
       "      <td>0.070</td>\n",
       "      <td>7</td>\n",
       "    </tr>\n",
       "    <tr>\n",
       "      <th>2</th>\n",
       "      <td>2</td>\n",
       "      <td>0</td>\n",
       "      <td>0.530</td>\n",
       "      <td>0.420</td>\n",
       "      <td>0.135</td>\n",
       "      <td>0.6770</td>\n",
       "      <td>0.2565</td>\n",
       "      <td>0.1415</td>\n",
       "      <td>0.210</td>\n",
       "      <td>9</td>\n",
       "    </tr>\n",
       "    <tr>\n",
       "      <th>3</th>\n",
       "      <td>3</td>\n",
       "      <td>2</td>\n",
       "      <td>0.440</td>\n",
       "      <td>0.365</td>\n",
       "      <td>0.125</td>\n",
       "      <td>0.5160</td>\n",
       "      <td>0.2155</td>\n",
       "      <td>0.1140</td>\n",
       "      <td>0.155</td>\n",
       "      <td>10</td>\n",
       "    </tr>\n",
       "    <tr>\n",
       "      <th>4</th>\n",
       "      <td>4</td>\n",
       "      <td>1</td>\n",
       "      <td>0.330</td>\n",
       "      <td>0.255</td>\n",
       "      <td>0.080</td>\n",
       "      <td>0.2050</td>\n",
       "      <td>0.0895</td>\n",
       "      <td>0.0395</td>\n",
       "      <td>0.055</td>\n",
       "      <td>7</td>\n",
       "    </tr>\n",
       "  </tbody>\n",
       "</table>\n",
       "</div>"
      ],
      "text/plain": [
       "   id  Sex  Length  Diameter  Height  Whole_weight  Shucked_weight  \\\n",
       "0   0    2   0.455     0.365   0.095        0.5140          0.2245   \n",
       "1   1    2   0.350     0.265   0.090        0.2255          0.0995   \n",
       "2   2    0   0.530     0.420   0.135        0.6770          0.2565   \n",
       "3   3    2   0.440     0.365   0.125        0.5160          0.2155   \n",
       "4   4    1   0.330     0.255   0.080        0.2050          0.0895   \n",
       "\n",
       "   Viscera_weight  Shell_weight  Rings  \n",
       "0          0.1010         0.150     15  \n",
       "1          0.0485         0.070      7  \n",
       "2          0.1415         0.210      9  \n",
       "3          0.1140         0.155     10  \n",
       "4          0.0395         0.055      7  "
      ]
     },
     "execution_count": 102,
     "metadata": {},
     "output_type": "execute_result"
    }
   ],
   "source": [
    "from sklearn.preprocessing import LabelEncoder\n",
    "\n",
    "# 인코딩 작업\n",
    "def encode_features(dataDF) :\n",
    "    features = ['Sex']\n",
    "    for feature in features :\n",
    "        le = LabelEncoder()\n",
    "        le = le.fit(dataDF[feature])\n",
    "        dataDF[feature] = le.transform(dataDF[feature])\n",
    "\n",
    "    return dataDF\n",
    "\n",
    "df = encode_features(df)\n",
    "df.head()"
   ]
  },
  {
   "cell_type": "code",
   "execution_count": 103,
   "metadata": {},
   "outputs": [],
   "source": [
    "from sklearn.preprocessing import StandardScaler\n",
    "\n",
    "# 피처, 레이블 데이터\n",
    "X = df.drop('Rings', axis = 1).values\n",
    "y = df['Rings'].values\n",
    "\n",
    "# 데이터 스케일링\n",
    "scaler = StandardScaler()\n",
    "X = scaler.fit_transform(X)"
   ]
  },
  {
   "cell_type": "code",
   "execution_count": 104,
   "metadata": {},
   "outputs": [
    {
     "data": {
      "text/plain": [
       "array([[-1.73163619,  1.15198011, -0.57455813, ..., -0.60768536,\n",
       "        -0.72621157, -0.63821689],\n",
       "       [-1.73080687,  1.15198011, -1.44898585, ..., -1.17090984,\n",
       "        -1.20522124, -1.21298732],\n",
       "       [-1.72997754, -1.28068972,  0.05003309, ..., -0.4634999 ,\n",
       "        -0.35668983, -0.20713907],\n",
       "       ...,\n",
       "       [ 1.72997754,  1.15198011,  0.6329849 , ...,  0.74855917,\n",
       "         0.97541324,  0.49695471],\n",
       "       [ 1.73080687, -1.28068972,  0.84118198, ...,  0.77334105,\n",
       "         0.73362741,  0.41073914],\n",
       "       [ 1.73163619,  1.15198011,  1.54905203, ...,  2.64099341,\n",
       "         1.78744868,  1.84048058]])"
      ]
     },
     "execution_count": 104,
     "metadata": {},
     "output_type": "execute_result"
    }
   ],
   "source": [
    "X"
   ]
  },
  {
   "cell_type": "code",
   "execution_count": 105,
   "metadata": {},
   "outputs": [
    {
     "data": {
      "text/plain": [
       "array([15,  7,  9, ...,  9, 10, 12], dtype=int64)"
      ]
     },
     "execution_count": 105,
     "metadata": {},
     "output_type": "execute_result"
    }
   ],
   "source": [
    "y"
   ]
  },
  {
   "cell_type": "code",
   "execution_count": 106,
   "metadata": {},
   "outputs": [
    {
     "data": {
      "text/plain": [
       "((3341, 9), (836, 9), (3341,), (836,))"
      ]
     },
     "execution_count": 106,
     "metadata": {},
     "output_type": "execute_result"
    }
   ],
   "source": [
    "from sklearn.model_selection import train_test_split\n",
    "\n",
    "X_train, X_test, y_train, y_test = train_test_split(X, y, test_size = 0.2, random_state = 0)\n",
    "X_train.shape, X_test.shape, y_train.shape, y_test.shape"
   ]
  },
  {
   "cell_type": "code",
   "execution_count": 107,
   "metadata": {},
   "outputs": [],
   "source": [
    "# Convert to PyTorch tensors\n",
    "X_train = torch.tensor(X_train, dtype = torch.float32)\n",
    "y_train = torch.tensor(y_train, dtype = torch.float32)\n",
    "X_test = torch.tensor(X_test, dtype = torch.float32)\n",
    "y_test = torch.tensor(y_test, dtype = torch.float32)"
   ]
  },
  {
   "cell_type": "code",
   "execution_count": 108,
   "metadata": {},
   "outputs": [],
   "source": [
    "# Create DataLoader\n",
    "train_dataset = TensorDataset(X_train, y_train)\n",
    "train_dataloader = DataLoader(train_dataset, batch_size = 32, shuffle = True)\n",
    "\n",
    "test_dataset = TensorDataset(X_test, y_test)\n",
    "test_dataloader = DataLoader(test_dataset, batch_size = 32, shuffle = False)"
   ]
  },
  {
   "cell_type": "code",
   "execution_count": 109,
   "metadata": {},
   "outputs": [
    {
     "data": {
      "text/plain": [
       "(torch.Size([3341, 9]),\n",
       " torch.Size([836, 9]),\n",
       " torch.Size([3341]),\n",
       " torch.Size([836]))"
      ]
     },
     "execution_count": 109,
     "metadata": {},
     "output_type": "execute_result"
    }
   ],
   "source": [
    "X_train.shape, X_test.shape, y_train.shape, y_test.shape"
   ]
  },
  {
   "cell_type": "code",
   "execution_count": 110,
   "metadata": {},
   "outputs": [],
   "source": [
    "# 모델 정의\n",
    "class abaloneRegression(nn.Module):\n",
    "    def __init__(self):\n",
    "        super(abaloneRegression, self).__init__()\n",
    "        self.fc1 = nn.Linear(9, 64)\n",
    "        self.fc2 = nn.Linear(64, 32)\n",
    "        self.fc3 = nn.Linear(32, 1) \n",
    "\n",
    "    def forward(self, x):\n",
    "        x = torch.relu(self.fc1(x))\n",
    "        x = torch.relu(self.fc2(x))\n",
    "        x = self.fc3(x)\n",
    "        return x\n",
    "\n",
    "# 모델 생성\n",
    "model = abaloneRegression()"
   ]
  },
  {
   "cell_type": "code",
   "execution_count": 111,
   "metadata": {},
   "outputs": [],
   "source": [
    "# 손실 함수 및 최적화 기법 정의\n",
    "criterion = nn.MSELoss()\n",
    "optimizer = torch.optim.Adam(model.parameters(), lr = 0.0005)"
   ]
  },
  {
   "cell_type": "code",
   "execution_count": 112,
   "metadata": {},
   "outputs": [
    {
     "name": "stdout",
     "output_type": "stream",
     "text": [
      "Epoch 1/20, Train Loss: 85.6496, Test Loss: 49.6014\n",
      "Epoch 2/20, Train Loss: 27.0051, Test Loss: 18.6105\n",
      "Epoch 3/20, Train Loss: 14.0758, Test Loss: 10.4611\n",
      "Epoch 4/20, Train Loss: 8.6581, Test Loss: 7.1303\n",
      "Epoch 5/20, Train Loss: 6.7642, Test Loss: 6.1530\n",
      "Epoch 6/20, Train Loss: 6.2413, Test Loss: 5.8080\n",
      "Epoch 7/20, Train Loss: 5.8606, Test Loss: 5.6395\n",
      "Epoch 8/20, Train Loss: 5.6191, Test Loss: 5.5775\n",
      "Epoch 9/20, Train Loss: 5.4471, Test Loss: 5.4145\n",
      "Epoch 10/20, Train Loss: 5.2868, Test Loss: 5.3250\n",
      "Epoch 11/20, Train Loss: 5.1367, Test Loss: 5.2890\n",
      "Epoch 12/20, Train Loss: 5.0413, Test Loss: 5.2328\n",
      "Epoch 13/20, Train Loss: 4.9228, Test Loss: 5.1473\n",
      "Epoch 14/20, Train Loss: 4.8477, Test Loss: 5.1153\n",
      "Epoch 15/20, Train Loss: 4.7945, Test Loss: 5.1507\n",
      "Epoch 16/20, Train Loss: 4.7335, Test Loss: 5.0502\n",
      "Epoch 17/20, Train Loss: 4.6938, Test Loss: 5.0575\n",
      "Epoch 18/20, Train Loss: 4.6408, Test Loss: 4.9543\n",
      "Epoch 19/20, Train Loss: 4.6719, Test Loss: 4.9635\n",
      "Epoch 20/20, Train Loss: 4.5611, Test Loss: 4.9378\n"
     ]
    }
   ],
   "source": [
    "# 모델 훈련\n",
    "# 손실 저장 리스트\n",
    "train_losses = []\n",
    "test_losses = []\n",
    "\n",
    "num_epochs = 20\n",
    "for epoch in range(num_epochs):\n",
    "    model.train()\n",
    "    running_loss = 0.0  \n",
    "\n",
    "    # 훈련 데이터셋 손실 계산\n",
    "    for inputs, labels in train_dataloader:\n",
    "        inputs = inputs.float()\n",
    "        labels = labels.float()  \n",
    "\n",
    "        optimizer.zero_grad()\n",
    "\n",
    "        outputs = model(inputs)  \n",
    "        loss = criterion(outputs.squeeze(1), labels)  \n",
    "\n",
    "        loss.backward()\n",
    "        optimizer.step()\n",
    "\n",
    "        running_loss += loss.item()\n",
    "\n",
    "    # 평균 훈련 손실 저장\n",
    "    epoch_train_loss = running_loss / len(train_dataloader)\n",
    "    train_losses.append(epoch_train_loss)\n",
    "\n",
    "    # 테스트 데이터셋 손실 계산\n",
    "    model.eval()\n",
    "    test_loss = 0.0\n",
    "    with torch.no_grad():\n",
    "        for inputs, labels in test_dataloader:\n",
    "            inputs = inputs.float()\n",
    "            labels = labels.float()  \n",
    "\n",
    "            outputs = model(inputs)\n",
    "            loss = criterion(outputs.squeeze(1), labels)  \n",
    "\n",
    "            test_loss += loss.item()\n",
    "\n",
    "    # 평균 테스트 손실 저장\n",
    "    epoch_test_loss = test_loss / len(test_dataloader)\n",
    "    test_losses.append(epoch_test_loss)\n",
    "\n",
    "    print(f\"Epoch {epoch + 1}/{num_epochs}, Train Loss: {epoch_train_loss:.4f}, Test Loss: {epoch_test_loss:.4f}\")\n"
   ]
  },
  {
   "cell_type": "code",
   "execution_count": 113,
   "metadata": {},
   "outputs": [
    {
     "data": {
      "image/png": "[encoded data removed]",
      "text/plain": [
       "<Figure size 1000x500 with 1 Axes>"
      ]
     },
     "metadata": {},
     "output_type": "display_data"
    },
    {
     "data": {
      "image/png": "[encoded data removed]",
      "text/plain": [
       "<Figure size 600x600 with 1 Axes>"
      ]
     },
     "metadata": {},
     "output_type": "display_data"
    }
   ],
   "source": [
    "import matplotlib.pyplot as plt\n",
    "\n",
    "# 학습 과정 시각화\n",
    "plt.figure(figsize = (10, 5))\n",
    "plt.plot(train_losses, label = \"Train Loss\", marker = \"o\")\n",
    "plt.plot(test_losses, label = \"Test Loss\", marker = \"s\")\n",
    "plt.xlabel(\"Epochs\")\n",
    "plt.ylabel(\"Loss\")\n",
    "plt.title(\"Training & Testing Loss Over Epochs\")\n",
    "plt.legend()\n",
    "plt.grid()\n",
    "plt.show()\n",
    "\n",
    "# 실제값 vs 예측값 비교\n",
    "model.eval()\n",
    "y_pred = []\n",
    "y_true = []\n",
    "\n",
    "with torch.no_grad():\n",
    "    for inputs, labels in test_dataloader:\n",
    "        inputs = inputs.float()\n",
    "        labels = labels.float()\n",
    "\n",
    "        outputs = model(inputs).squeeze(1)  \n",
    "        y_pred.extend(outputs.numpy())  \n",
    "        y_true.extend(labels.numpy())  \n",
    "\n",
    "# 산점도로 실제값 vs 예측값 시각화\n",
    "plt.figure(figsize = (6, 6))\n",
    "plt.scatter(y_true, y_pred, alpha = 0.5)\n",
    "plt.xlabel(\"Actual Values\")\n",
    "plt.ylabel(\"Predicted Values\")\n",
    "plt.title(\"Actual vs Predicted Values\")\n",
    "plt.axline([0, 0], [1, 1], color = \"red\", linestyle = \"--\")\n",
    "plt.grid()\n",
    "plt.show()\n"
   ]
  },
  {
   "cell_type": "code",
   "execution_count": 114,
   "metadata": {},
   "outputs": [
    {
     "name": "stdout",
     "output_type": "stream",
     "text": [
      "Mean Squared Error (MSE): 4.8980\n"
     ]
    }
   ],
   "source": [
    "# MSE 계산\n",
    "mse = torch.nn.functional.mse_loss(torch.tensor(y_pred), torch.tensor(y_true))\n",
    "print(f\"Mean Squared Error (MSE): {mse.item():.4f}\")"
   ]
  },
  {
   "cell_type": "code",
   "execution_count": null,
   "metadata": {},
   "outputs": [],
   "source": []
  },
  {
   "cell_type": "code",
   "execution_count": null,
   "metadata": {},
   "outputs": [],
   "source": []
  },
  {
   "cell_type": "code",
   "execution_count": null,
   "metadata": {},
   "outputs": [],
   "source": []
  }
 ],
 "metadata": {
  "kernelspec": {
   "display_name": "base",
   "language": "python",
   "name": "python3"
  },
  "language_info": {
   "codemirror_mode": {
    "name": "ipython",
    "version": 3
   },
   "file_extension": ".py",
   "mimetype": "text/x-python",
   "name": "python",
   "nbconvert_exporter": "python",
   "pygments_lexer": "ipython3",
   "version": "3.11.5"
  }
 },
 "nbformat": 4,
 "nbformat_minor": 2
}
