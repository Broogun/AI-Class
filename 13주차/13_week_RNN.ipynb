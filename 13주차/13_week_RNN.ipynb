{
 "cells": [
  {
   "cell_type": "code",
   "execution_count": 22,
   "id": "249ea3b0",
   "metadata": {},
   "outputs": [],
   "source": [
    "import pandas as pd\n",
    "import numpy as np\n",
    "import matplotlib.pyplot as plt\n",
    "from sklearn.preprocessing import MinMaxScaler\n",
    "import tensorflow as tf\n",
    "from tensorflow.keras.models import Sequential\n",
    "from tensorflow.keras.layers import SimpleRNN, Dense"
   ]
  },
  {
   "cell_type": "code",
   "execution_count": 23,
   "id": "84f3693b",
   "metadata": {},
   "outputs": [],
   "source": [
    "df = pd.read_csv(\"AAME.csv\")"
   ]
  },
  {
   "cell_type": "code",
   "execution_count": 24,
   "id": "e6d47b8b",
   "metadata": {},
   "outputs": [
    {
     "data": {
      "application/vnd.microsoft.datawrangler.viewer.v0+json": {
       "columns": [
        {
         "name": "index",
         "rawType": "int64",
         "type": "integer"
        },
        {
         "name": "Date",
         "rawType": "object",
         "type": "string"
        },
        {
         "name": "Open",
         "rawType": "float64",
         "type": "float"
        },
        {
         "name": "High",
         "rawType": "float64",
         "type": "float"
        },
        {
         "name": "Low",
         "rawType": "float64",
         "type": "float"
        },
        {
         "name": "Close",
         "rawType": "float64",
         "type": "float"
        },
        {
         "name": "Adj Close",
         "rawType": "float64",
         "type": "float"
        },
        {
         "name": "Volume",
         "rawType": "int64",
         "type": "integer"
        }
       ],
       "ref": "d32dcc07-74ed-4bbf-ae73-acffa65224cb",
       "rows": [
        [
         "0",
         "1980-03-17",
         "0.0",
         "4.050000190734863",
         "3.849999904632568",
         "3.849999904632568",
         "3.2131667137146",
         "15000"
        ],
        [
         "1",
         "1980-03-18",
         "0.0",
         "4.0",
         "3.799999952316284",
         "3.799999952316284",
         "3.1714370250701904",
         "10200"
        ],
        [
         "2",
         "1980-03-19",
         "0.0",
         "4.050000190734863",
         "3.849999904632568",
         "3.849999904632568",
         "3.2131667137146",
         "33500"
        ],
        [
         "3",
         "1980-03-20",
         "0.0",
         "4.0",
         "3.799999952316284",
         "3.799999952316284",
         "3.1714370250701904",
         "8700"
        ],
        [
         "4",
         "1980-03-21",
         "0.0",
         "3.950000047683716",
         "3.75",
         "3.75",
         "3.1297085285186768",
         "12700"
        ],
        [
         "5",
         "1980-03-24",
         "0.0",
         "3.75",
         "3.549999952316284",
         "3.549999952316284",
         "2.9627902507781982",
         "18200"
        ],
        [
         "6",
         "1980-03-25",
         "0.0",
         "3.700000047683716",
         "3.5",
         "3.5",
         "2.921060562133789",
         "2500"
        ],
        [
         "7",
         "1980-03-26",
         "0.0",
         "3.700000047683716",
         "3.5",
         "3.5",
         "2.921060562133789",
         "500"
        ],
        [
         "8",
         "1980-03-27",
         "0.0",
         "3.5999999046325684",
         "3.400000095367432",
         "3.400000095367432",
         "2.83760142326355",
         "4200"
        ],
        [
         "9",
         "1980-03-28",
         "0.0",
         "3.650000095367432",
         "3.450000047683716",
         "3.450000047683716",
         "2.8793320655822754",
         "3200"
        ],
        [
         "10",
         "1980-03-31",
         "0.0",
         "3.549999952316284",
         "3.3499999046325684",
         "3.3499999046325684",
         "2.795872449874878",
         "20000"
        ],
        [
         "11",
         "1980-04-01",
         "0.0",
         "3.5",
         "3.299999952316284",
         "3.299999952316284",
         "2.754143238067627",
         "2000"
        ],
        [
         "12",
         "1980-04-02",
         "0.0",
         "3.5999999046325684",
         "3.400000095367432",
         "3.400000095367432",
         "2.83760142326355",
         "9200"
        ],
        [
         "13",
         "1980-04-03",
         "0.0",
         "3.5999999046325684",
         "3.400000095367432",
         "3.400000095367432",
         "2.83760142326355",
         "28500"
        ],
        [
         "14",
         "1980-04-07",
         "0.0",
         "3.5",
         "3.299999952316284",
         "3.299999952316284",
         "2.754143238067627",
         "4000"
        ],
        [
         "15",
         "1980-04-08",
         "0.0",
         "3.5",
         "3.299999952316284",
         "3.299999952316284",
         "2.754143238067627",
         "5200"
        ],
        [
         "16",
         "1980-04-09",
         "0.0",
         "3.5",
         "3.299999952316284",
         "3.299999952316284",
         "2.754143238067627",
         "7000"
        ],
        [
         "17",
         "1980-04-10",
         "0.0",
         "3.5",
         "3.299999952316284",
         "3.299999952316284",
         "2.754143238067627",
         "3200"
        ],
        [
         "18",
         "1980-04-11",
         "0.0",
         "3.549999952316284",
         "3.3499999046325684",
         "3.3499999046325684",
         "2.795872449874878",
         "18700"
        ],
        [
         "19",
         "1980-04-14",
         "0.0",
         "3.5",
         "3.299999952316284",
         "3.299999952316284",
         "2.754143238067627",
         "13200"
        ],
        [
         "20",
         "1980-04-15",
         "0.0",
         "3.5",
         "3.299999952316284",
         "3.299999952316284",
         "2.754143238067627",
         "200"
        ],
        [
         "21",
         "1980-04-16",
         "0.0",
         "3.5",
         "3.299999952316284",
         "3.299999952316284",
         "2.754143238067627",
         "7500"
        ],
        [
         "22",
         "1980-04-17",
         "0.0",
         "3.299999952316284",
         "3.0999999046325684",
         "3.0999999046325684",
         "2.587225437164306",
         "9000"
        ],
        [
         "23",
         "1980-04-18",
         "0.0",
         "3.299999952316284",
         "3.0999999046325684",
         "3.0999999046325684",
         "2.587225437164306",
         "3000"
        ],
        [
         "24",
         "1980-04-21",
         "0.0",
         "3.299999952316284",
         "3.0999999046325684",
         "3.0999999046325684",
         "2.587225437164306",
         "2700"
        ],
        [
         "25",
         "1980-04-22",
         "0.0",
         "3.3499999046325684",
         "3.150000095367432",
         "3.150000095367432",
         "2.6289548873901367",
         "700"
        ],
        [
         "26",
         "1980-04-23",
         "0.0",
         "3.400000095367432",
         "3.200000047683716",
         "3.200000047683716",
         "2.670684576034546",
         "2000"
        ],
        [
         "27",
         "1980-04-24",
         "0.0",
         "3.299999952316284",
         "3.0999999046325684",
         "3.0999999046325684",
         "2.587225437164306",
         "5700"
        ],
        [
         "28",
         "1980-04-25",
         "0.0",
         "3.299999952316284",
         "3.0999999046325684",
         "3.0999999046325684",
         "2.587225437164306",
         "5200"
        ],
        [
         "29",
         "1980-04-28",
         "0.0",
         "3.299999952316284",
         "3.0999999046325684",
         "3.0999999046325684",
         "2.587225437164306",
         "2500"
        ],
        [
         "30",
         "1980-04-29",
         "0.0",
         "3.450000047683716",
         "3.25",
         "3.25",
         "2.7124135494232178",
         "22700"
        ],
        [
         "31",
         "1980-04-30",
         "0.0",
         "3.3499999046325684",
         "3.150000095367432",
         "3.150000095367432",
         "2.6289548873901367",
         "20700"
        ],
        [
         "32",
         "1980-05-01",
         "0.0",
         "3.3499999046325684",
         "3.150000095367432",
         "3.150000095367432",
         "2.6289548873901367",
         "10500"
        ],
        [
         "33",
         "1980-05-02",
         "0.0",
         "3.3499999046325684",
         "3.150000095367432",
         "3.150000095367432",
         "2.6289548873901367",
         "200"
        ],
        [
         "34",
         "1980-05-05",
         "0.0",
         "3.3499999046325684",
         "3.150000095367432",
         "3.150000095367432",
         "2.6289548873901367",
         "200"
        ],
        [
         "35",
         "1980-05-06",
         "0.0",
         "3.3499999046325684",
         "3.150000095367432",
         "3.150000095367432",
         "2.6289548873901367",
         "4500"
        ],
        [
         "36",
         "1980-05-07",
         "0.0",
         "3.3499999046325684",
         "3.150000095367432",
         "3.150000095367432",
         "2.6289548873901367",
         "200"
        ],
        [
         "37",
         "1980-05-08",
         "0.0",
         "3.400000095367432",
         "3.200000047683716",
         "3.200000047683716",
         "2.670684576034546",
         "2200"
        ],
        [
         "38",
         "1980-05-09",
         "0.0",
         "3.400000095367432",
         "3.200000047683716",
         "3.200000047683716",
         "2.670684576034546",
         "11200"
        ],
        [
         "39",
         "1980-05-12",
         "0.0",
         "3.450000047683716",
         "3.25",
         "3.25",
         "2.7124135494232178",
         "8700"
        ],
        [
         "40",
         "1980-05-13",
         "0.0",
         "3.450000047683716",
         "3.25",
         "3.25",
         "2.7124135494232178",
         "1200"
        ],
        [
         "41",
         "1980-05-14",
         "0.0",
         "3.549999952316284",
         "3.3499999046325684",
         "3.3499999046325684",
         "2.795872449874878",
         "6700"
        ],
        [
         "42",
         "1980-05-15",
         "0.0",
         "3.549999952316284",
         "3.3499999046325684",
         "3.3499999046325684",
         "2.795872449874878",
         "13700"
        ],
        [
         "43",
         "1980-05-16",
         "0.0",
         "3.549999952316284",
         "3.3499999046325684",
         "3.3499999046325684",
         "2.795872449874878",
         "19200"
        ],
        [
         "44",
         "1980-05-19",
         "0.0",
         "3.5",
         "3.299999952316284",
         "3.299999952316284",
         "2.754143238067627",
         "7200"
        ],
        [
         "45",
         "1980-05-20",
         "0.0",
         "3.5",
         "3.299999952316284",
         "3.299999952316284",
         "2.754143238067627",
         "5000"
        ],
        [
         "46",
         "1980-05-21",
         "0.0",
         "3.450000047683716",
         "3.25",
         "3.25",
         "2.7124135494232178",
         "11200"
        ],
        [
         "47",
         "1980-05-22",
         "0.0",
         "3.450000047683716",
         "3.25",
         "3.25",
         "2.7124135494232178",
         "4700"
        ],
        [
         "48",
         "1980-05-23",
         "0.0",
         "3.549999952316284",
         "3.3499999046325684",
         "3.3499999046325684",
         "2.795872449874878",
         "6200"
        ],
        [
         "49",
         "1980-05-27",
         "0.0",
         "3.5999999046325684",
         "3.400000095367432",
         "3.400000095367432",
         "2.83760142326355",
         "7700"
        ]
       ],
       "shape": {
        "columns": 7,
        "rows": 10098
       }
      },
      "text/html": [
       "<div>\n",
       "<style scoped>\n",
       "    .dataframe tbody tr th:only-of-type {\n",
       "        vertical-align: middle;\n",
       "    }\n",
       "\n",
       "    .dataframe tbody tr th {\n",
       "        vertical-align: top;\n",
       "    }\n",
       "\n",
       "    .dataframe thead th {\n",
       "        text-align: right;\n",
       "    }\n",
       "</style>\n",
       "<table border=\"1\" class=\"dataframe\">\n",
       "  <thead>\n",
       "    <tr style=\"text-align: right;\">\n",
       "      <th></th>\n",
       "      <th>Date</th>\n",
       "      <th>Open</th>\n",
       "      <th>High</th>\n",
       "      <th>Low</th>\n",
       "      <th>Close</th>\n",
       "      <th>Adj Close</th>\n",
       "      <th>Volume</th>\n",
       "    </tr>\n",
       "  </thead>\n",
       "  <tbody>\n",
       "    <tr>\n",
       "      <th>0</th>\n",
       "      <td>1980-03-17</td>\n",
       "      <td>0.00</td>\n",
       "      <td>4.05</td>\n",
       "      <td>3.85</td>\n",
       "      <td>3.85</td>\n",
       "      <td>3.213167</td>\n",
       "      <td>15000</td>\n",
       "    </tr>\n",
       "    <tr>\n",
       "      <th>1</th>\n",
       "      <td>1980-03-18</td>\n",
       "      <td>0.00</td>\n",
       "      <td>4.00</td>\n",
       "      <td>3.80</td>\n",
       "      <td>3.80</td>\n",
       "      <td>3.171437</td>\n",
       "      <td>10200</td>\n",
       "    </tr>\n",
       "    <tr>\n",
       "      <th>2</th>\n",
       "      <td>1980-03-19</td>\n",
       "      <td>0.00</td>\n",
       "      <td>4.05</td>\n",
       "      <td>3.85</td>\n",
       "      <td>3.85</td>\n",
       "      <td>3.213167</td>\n",
       "      <td>33500</td>\n",
       "    </tr>\n",
       "    <tr>\n",
       "      <th>3</th>\n",
       "      <td>1980-03-20</td>\n",
       "      <td>0.00</td>\n",
       "      <td>4.00</td>\n",
       "      <td>3.80</td>\n",
       "      <td>3.80</td>\n",
       "      <td>3.171437</td>\n",
       "      <td>8700</td>\n",
       "    </tr>\n",
       "    <tr>\n",
       "      <th>4</th>\n",
       "      <td>1980-03-21</td>\n",
       "      <td>0.00</td>\n",
       "      <td>3.95</td>\n",
       "      <td>3.75</td>\n",
       "      <td>3.75</td>\n",
       "      <td>3.129709</td>\n",
       "      <td>12700</td>\n",
       "    </tr>\n",
       "    <tr>\n",
       "      <th>...</th>\n",
       "      <td>...</td>\n",
       "      <td>...</td>\n",
       "      <td>...</td>\n",
       "      <td>...</td>\n",
       "      <td>...</td>\n",
       "      <td>...</td>\n",
       "      <td>...</td>\n",
       "    </tr>\n",
       "    <tr>\n",
       "      <th>10093</th>\n",
       "      <td>2020-03-26</td>\n",
       "      <td>2.29</td>\n",
       "      <td>2.29</td>\n",
       "      <td>2.08</td>\n",
       "      <td>2.28</td>\n",
       "      <td>2.280000</td>\n",
       "      <td>1600</td>\n",
       "    </tr>\n",
       "    <tr>\n",
       "      <th>10094</th>\n",
       "      <td>2020-03-27</td>\n",
       "      <td>2.25</td>\n",
       "      <td>2.25</td>\n",
       "      <td>2.21</td>\n",
       "      <td>2.25</td>\n",
       "      <td>2.250000</td>\n",
       "      <td>500</td>\n",
       "    </tr>\n",
       "    <tr>\n",
       "      <th>10095</th>\n",
       "      <td>2020-03-30</td>\n",
       "      <td>2.25</td>\n",
       "      <td>2.25</td>\n",
       "      <td>2.13</td>\n",
       "      <td>2.13</td>\n",
       "      <td>2.130000</td>\n",
       "      <td>400</td>\n",
       "    </tr>\n",
       "    <tr>\n",
       "      <th>10096</th>\n",
       "      <td>2020-03-31</td>\n",
       "      <td>2.11</td>\n",
       "      <td>2.11</td>\n",
       "      <td>2.11</td>\n",
       "      <td>2.11</td>\n",
       "      <td>2.110000</td>\n",
       "      <td>300</td>\n",
       "    </tr>\n",
       "    <tr>\n",
       "      <th>10097</th>\n",
       "      <td>2020-04-01</td>\n",
       "      <td>2.11</td>\n",
       "      <td>2.15</td>\n",
       "      <td>2.11</td>\n",
       "      <td>2.15</td>\n",
       "      <td>2.150000</td>\n",
       "      <td>600</td>\n",
       "    </tr>\n",
       "  </tbody>\n",
       "</table>\n",
       "<p>10098 rows × 7 columns</p>\n",
       "</div>"
      ],
      "text/plain": [
       "             Date  Open  High   Low  Close  Adj Close  Volume\n",
       "0      1980-03-17  0.00  4.05  3.85   3.85   3.213167   15000\n",
       "1      1980-03-18  0.00  4.00  3.80   3.80   3.171437   10200\n",
       "2      1980-03-19  0.00  4.05  3.85   3.85   3.213167   33500\n",
       "3      1980-03-20  0.00  4.00  3.80   3.80   3.171437    8700\n",
       "4      1980-03-21  0.00  3.95  3.75   3.75   3.129709   12700\n",
       "...           ...   ...   ...   ...    ...        ...     ...\n",
       "10093  2020-03-26  2.29  2.29  2.08   2.28   2.280000    1600\n",
       "10094  2020-03-27  2.25  2.25  2.21   2.25   2.250000     500\n",
       "10095  2020-03-30  2.25  2.25  2.13   2.13   2.130000     400\n",
       "10096  2020-03-31  2.11  2.11  2.11   2.11   2.110000     300\n",
       "10097  2020-04-01  2.11  2.15  2.11   2.15   2.150000     600\n",
       "\n",
       "[10098 rows x 7 columns]"
      ]
     },
     "execution_count": 24,
     "metadata": {},
     "output_type": "execute_result"
    }
   ],
   "source": [
    "df"
   ]
  },
  {
   "cell_type": "code",
   "execution_count": 26,
   "id": "8d68a069",
   "metadata": {},
   "outputs": [],
   "source": [
    "df = df.drop(columns = ['Adj Close', 'Volume'])"
   ]
  },
  {
   "cell_type": "code",
   "execution_count": 27,
   "id": "bec78e63",
   "metadata": {},
   "outputs": [
    {
     "data": {
      "application/vnd.microsoft.datawrangler.viewer.v0+json": {
       "columns": [
        {
         "name": "index",
         "rawType": "int64",
         "type": "integer"
        },
        {
         "name": "Date",
         "rawType": "object",
         "type": "string"
        },
        {
         "name": "Open",
         "rawType": "float64",
         "type": "float"
        },
        {
         "name": "High",
         "rawType": "float64",
         "type": "float"
        },
        {
         "name": "Low",
         "rawType": "float64",
         "type": "float"
        },
        {
         "name": "Close",
         "rawType": "float64",
         "type": "float"
        }
       ],
       "ref": "6be344f2-d989-4ddc-a9ac-95f656c67f17",
       "rows": [
        [
         "0",
         "1980-03-17",
         "0.0",
         "4.050000190734863",
         "3.849999904632568",
         "3.849999904632568"
        ],
        [
         "1",
         "1980-03-18",
         "0.0",
         "4.0",
         "3.799999952316284",
         "3.799999952316284"
        ],
        [
         "2",
         "1980-03-19",
         "0.0",
         "4.050000190734863",
         "3.849999904632568",
         "3.849999904632568"
        ],
        [
         "3",
         "1980-03-20",
         "0.0",
         "4.0",
         "3.799999952316284",
         "3.799999952316284"
        ],
        [
         "4",
         "1980-03-21",
         "0.0",
         "3.950000047683716",
         "3.75",
         "3.75"
        ],
        [
         "5",
         "1980-03-24",
         "0.0",
         "3.75",
         "3.549999952316284",
         "3.549999952316284"
        ],
        [
         "6",
         "1980-03-25",
         "0.0",
         "3.700000047683716",
         "3.5",
         "3.5"
        ],
        [
         "7",
         "1980-03-26",
         "0.0",
         "3.700000047683716",
         "3.5",
         "3.5"
        ],
        [
         "8",
         "1980-03-27",
         "0.0",
         "3.5999999046325684",
         "3.400000095367432",
         "3.400000095367432"
        ],
        [
         "9",
         "1980-03-28",
         "0.0",
         "3.650000095367432",
         "3.450000047683716",
         "3.450000047683716"
        ],
        [
         "10",
         "1980-03-31",
         "0.0",
         "3.549999952316284",
         "3.3499999046325684",
         "3.3499999046325684"
        ],
        [
         "11",
         "1980-04-01",
         "0.0",
         "3.5",
         "3.299999952316284",
         "3.299999952316284"
        ],
        [
         "12",
         "1980-04-02",
         "0.0",
         "3.5999999046325684",
         "3.400000095367432",
         "3.400000095367432"
        ],
        [
         "13",
         "1980-04-03",
         "0.0",
         "3.5999999046325684",
         "3.400000095367432",
         "3.400000095367432"
        ],
        [
         "14",
         "1980-04-07",
         "0.0",
         "3.5",
         "3.299999952316284",
         "3.299999952316284"
        ],
        [
         "15",
         "1980-04-08",
         "0.0",
         "3.5",
         "3.299999952316284",
         "3.299999952316284"
        ],
        [
         "16",
         "1980-04-09",
         "0.0",
         "3.5",
         "3.299999952316284",
         "3.299999952316284"
        ],
        [
         "17",
         "1980-04-10",
         "0.0",
         "3.5",
         "3.299999952316284",
         "3.299999952316284"
        ],
        [
         "18",
         "1980-04-11",
         "0.0",
         "3.549999952316284",
         "3.3499999046325684",
         "3.3499999046325684"
        ],
        [
         "19",
         "1980-04-14",
         "0.0",
         "3.5",
         "3.299999952316284",
         "3.299999952316284"
        ],
        [
         "20",
         "1980-04-15",
         "0.0",
         "3.5",
         "3.299999952316284",
         "3.299999952316284"
        ],
        [
         "21",
         "1980-04-16",
         "0.0",
         "3.5",
         "3.299999952316284",
         "3.299999952316284"
        ],
        [
         "22",
         "1980-04-17",
         "0.0",
         "3.299999952316284",
         "3.0999999046325684",
         "3.0999999046325684"
        ],
        [
         "23",
         "1980-04-18",
         "0.0",
         "3.299999952316284",
         "3.0999999046325684",
         "3.0999999046325684"
        ],
        [
         "24",
         "1980-04-21",
         "0.0",
         "3.299999952316284",
         "3.0999999046325684",
         "3.0999999046325684"
        ],
        [
         "25",
         "1980-04-22",
         "0.0",
         "3.3499999046325684",
         "3.150000095367432",
         "3.150000095367432"
        ],
        [
         "26",
         "1980-04-23",
         "0.0",
         "3.400000095367432",
         "3.200000047683716",
         "3.200000047683716"
        ],
        [
         "27",
         "1980-04-24",
         "0.0",
         "3.299999952316284",
         "3.0999999046325684",
         "3.0999999046325684"
        ],
        [
         "28",
         "1980-04-25",
         "0.0",
         "3.299999952316284",
         "3.0999999046325684",
         "3.0999999046325684"
        ],
        [
         "29",
         "1980-04-28",
         "0.0",
         "3.299999952316284",
         "3.0999999046325684",
         "3.0999999046325684"
        ],
        [
         "30",
         "1980-04-29",
         "0.0",
         "3.450000047683716",
         "3.25",
         "3.25"
        ],
        [
         "31",
         "1980-04-30",
         "0.0",
         "3.3499999046325684",
         "3.150000095367432",
         "3.150000095367432"
        ],
        [
         "32",
         "1980-05-01",
         "0.0",
         "3.3499999046325684",
         "3.150000095367432",
         "3.150000095367432"
        ],
        [
         "33",
         "1980-05-02",
         "0.0",
         "3.3499999046325684",
         "3.150000095367432",
         "3.150000095367432"
        ],
        [
         "34",
         "1980-05-05",
         "0.0",
         "3.3499999046325684",
         "3.150000095367432",
         "3.150000095367432"
        ],
        [
         "35",
         "1980-05-06",
         "0.0",
         "3.3499999046325684",
         "3.150000095367432",
         "3.150000095367432"
        ],
        [
         "36",
         "1980-05-07",
         "0.0",
         "3.3499999046325684",
         "3.150000095367432",
         "3.150000095367432"
        ],
        [
         "37",
         "1980-05-08",
         "0.0",
         "3.400000095367432",
         "3.200000047683716",
         "3.200000047683716"
        ],
        [
         "38",
         "1980-05-09",
         "0.0",
         "3.400000095367432",
         "3.200000047683716",
         "3.200000047683716"
        ],
        [
         "39",
         "1980-05-12",
         "0.0",
         "3.450000047683716",
         "3.25",
         "3.25"
        ],
        [
         "40",
         "1980-05-13",
         "0.0",
         "3.450000047683716",
         "3.25",
         "3.25"
        ],
        [
         "41",
         "1980-05-14",
         "0.0",
         "3.549999952316284",
         "3.3499999046325684",
         "3.3499999046325684"
        ],
        [
         "42",
         "1980-05-15",
         "0.0",
         "3.549999952316284",
         "3.3499999046325684",
         "3.3499999046325684"
        ],
        [
         "43",
         "1980-05-16",
         "0.0",
         "3.549999952316284",
         "3.3499999046325684",
         "3.3499999046325684"
        ],
        [
         "44",
         "1980-05-19",
         "0.0",
         "3.5",
         "3.299999952316284",
         "3.299999952316284"
        ],
        [
         "45",
         "1980-05-20",
         "0.0",
         "3.5",
         "3.299999952316284",
         "3.299999952316284"
        ],
        [
         "46",
         "1980-05-21",
         "0.0",
         "3.450000047683716",
         "3.25",
         "3.25"
        ],
        [
         "47",
         "1980-05-22",
         "0.0",
         "3.450000047683716",
         "3.25",
         "3.25"
        ],
        [
         "48",
         "1980-05-23",
         "0.0",
         "3.549999952316284",
         "3.3499999046325684",
         "3.3499999046325684"
        ],
        [
         "49",
         "1980-05-27",
         "0.0",
         "3.5999999046325684",
         "3.400000095367432",
         "3.400000095367432"
        ]
       ],
       "shape": {
        "columns": 5,
        "rows": 10098
       }
      },
      "text/html": [
       "<div>\n",
       "<style scoped>\n",
       "    .dataframe tbody tr th:only-of-type {\n",
       "        vertical-align: middle;\n",
       "    }\n",
       "\n",
       "    .dataframe tbody tr th {\n",
       "        vertical-align: top;\n",
       "    }\n",
       "\n",
       "    .dataframe thead th {\n",
       "        text-align: right;\n",
       "    }\n",
       "</style>\n",
       "<table border=\"1\" class=\"dataframe\">\n",
       "  <thead>\n",
       "    <tr style=\"text-align: right;\">\n",
       "      <th></th>\n",
       "      <th>Date</th>\n",
       "      <th>Open</th>\n",
       "      <th>High</th>\n",
       "      <th>Low</th>\n",
       "      <th>Close</th>\n",
       "    </tr>\n",
       "  </thead>\n",
       "  <tbody>\n",
       "    <tr>\n",
       "      <th>0</th>\n",
       "      <td>1980-03-17</td>\n",
       "      <td>0.00</td>\n",
       "      <td>4.05</td>\n",
       "      <td>3.85</td>\n",
       "      <td>3.85</td>\n",
       "    </tr>\n",
       "    <tr>\n",
       "      <th>1</th>\n",
       "      <td>1980-03-18</td>\n",
       "      <td>0.00</td>\n",
       "      <td>4.00</td>\n",
       "      <td>3.80</td>\n",
       "      <td>3.80</td>\n",
       "    </tr>\n",
       "    <tr>\n",
       "      <th>2</th>\n",
       "      <td>1980-03-19</td>\n",
       "      <td>0.00</td>\n",
       "      <td>4.05</td>\n",
       "      <td>3.85</td>\n",
       "      <td>3.85</td>\n",
       "    </tr>\n",
       "    <tr>\n",
       "      <th>3</th>\n",
       "      <td>1980-03-20</td>\n",
       "      <td>0.00</td>\n",
       "      <td>4.00</td>\n",
       "      <td>3.80</td>\n",
       "      <td>3.80</td>\n",
       "    </tr>\n",
       "    <tr>\n",
       "      <th>4</th>\n",
       "      <td>1980-03-21</td>\n",
       "      <td>0.00</td>\n",
       "      <td>3.95</td>\n",
       "      <td>3.75</td>\n",
       "      <td>3.75</td>\n",
       "    </tr>\n",
       "    <tr>\n",
       "      <th>...</th>\n",
       "      <td>...</td>\n",
       "      <td>...</td>\n",
       "      <td>...</td>\n",
       "      <td>...</td>\n",
       "      <td>...</td>\n",
       "    </tr>\n",
       "    <tr>\n",
       "      <th>10093</th>\n",
       "      <td>2020-03-26</td>\n",
       "      <td>2.29</td>\n",
       "      <td>2.29</td>\n",
       "      <td>2.08</td>\n",
       "      <td>2.28</td>\n",
       "    </tr>\n",
       "    <tr>\n",
       "      <th>10094</th>\n",
       "      <td>2020-03-27</td>\n",
       "      <td>2.25</td>\n",
       "      <td>2.25</td>\n",
       "      <td>2.21</td>\n",
       "      <td>2.25</td>\n",
       "    </tr>\n",
       "    <tr>\n",
       "      <th>10095</th>\n",
       "      <td>2020-03-30</td>\n",
       "      <td>2.25</td>\n",
       "      <td>2.25</td>\n",
       "      <td>2.13</td>\n",
       "      <td>2.13</td>\n",
       "    </tr>\n",
       "    <tr>\n",
       "      <th>10096</th>\n",
       "      <td>2020-03-31</td>\n",
       "      <td>2.11</td>\n",
       "      <td>2.11</td>\n",
       "      <td>2.11</td>\n",
       "      <td>2.11</td>\n",
       "    </tr>\n",
       "    <tr>\n",
       "      <th>10097</th>\n",
       "      <td>2020-04-01</td>\n",
       "      <td>2.11</td>\n",
       "      <td>2.15</td>\n",
       "      <td>2.11</td>\n",
       "      <td>2.15</td>\n",
       "    </tr>\n",
       "  </tbody>\n",
       "</table>\n",
       "<p>10098 rows × 5 columns</p>\n",
       "</div>"
      ],
      "text/plain": [
       "             Date  Open  High   Low  Close\n",
       "0      1980-03-17  0.00  4.05  3.85   3.85\n",
       "1      1980-03-18  0.00  4.00  3.80   3.80\n",
       "2      1980-03-19  0.00  4.05  3.85   3.85\n",
       "3      1980-03-20  0.00  4.00  3.80   3.80\n",
       "4      1980-03-21  0.00  3.95  3.75   3.75\n",
       "...           ...   ...   ...   ...    ...\n",
       "10093  2020-03-26  2.29  2.29  2.08   2.28\n",
       "10094  2020-03-27  2.25  2.25  2.21   2.25\n",
       "10095  2020-03-30  2.25  2.25  2.13   2.13\n",
       "10096  2020-03-31  2.11  2.11  2.11   2.11\n",
       "10097  2020-04-01  2.11  2.15  2.11   2.15\n",
       "\n",
       "[10098 rows x 5 columns]"
      ]
     },
     "execution_count": 27,
     "metadata": {},
     "output_type": "execute_result"
    }
   ],
   "source": [
    "df"
   ]
  },
  {
   "cell_type": "code",
   "execution_count": 28,
   "id": "c002169a",
   "metadata": {},
   "outputs": [
    {
     "name": "stdout",
     "output_type": "stream",
     "text": [
      "<class 'pandas.core.frame.DataFrame'>\n",
      "RangeIndex: 10098 entries, 0 to 10097\n",
      "Data columns (total 5 columns):\n",
      " #   Column  Non-Null Count  Dtype  \n",
      "---  ------  --------------  -----  \n",
      " 0   Date    10098 non-null  object \n",
      " 1   Open    10098 non-null  float64\n",
      " 2   High    10098 non-null  float64\n",
      " 3   Low     10098 non-null  float64\n",
      " 4   Close   10098 non-null  float64\n",
      "dtypes: float64(4), object(1)\n",
      "memory usage: 394.6+ KB\n"
     ]
    }
   ],
   "source": [
    "df.info()"
   ]
  },
  {
   "cell_type": "code",
   "execution_count": null,
   "id": "b915d028",
   "metadata": {},
   "outputs": [],
   "source": [
    "from sklearn.preprocessing import MinMaxScaler\n",
    "\n",
    "df['Date'] = pd.to_datetime(df['Date'])\n",
    "df = df.sort_values('Date')\n",
    "\n",
    "# Close만 추출해서 정규화\n",
    "close_data = df['Close'].values.reshape(-1, 1)\n",
    "scaler = MinMaxScaler()\n",
    "scaled_close = scaler.fit_transform(close_data)"
   ]
  },
  {
   "cell_type": "code",
   "execution_count": null,
   "id": "44501c3a",
   "metadata": {},
   "outputs": [],
   "source": [
    "# 시퀀스 생성 함수\n",
    "def create_sequences(data, window_size):\n",
    "    X, y = [], []\n",
    "    for i in range(len(data) - window_size):\n",
    "        X.append(data[i:i+window_size])\n",
    "        y.append(data[i+window_size])\n",
    "    return np.array(X), np.array(y)"
   ]
  },
  {
   "cell_type": "code",
   "execution_count": null,
   "id": "8981c8a4",
   "metadata": {},
   "outputs": [],
   "source": [
    "# 윈도우 크기 설정 및 훈련/테스트 나누기\n",
    "window_size = 10\n",
    "split = int(len(scaled_close) * 0.8)\n",
    "\n",
    "train_data = scaled_close[:split]\n",
    "test_data = scaled_close[split - window_size:]  # overlap for window\n",
    "\n",
    "X_train, y_train = create_sequences(train_data, window_size)\n",
    "X_test, y_test = create_sequences(test_data, window_size)"
   ]
  },
  {
   "cell_type": "code",
   "execution_count": null,
   "id": "985d8a0f",
   "metadata": {},
   "outputs": [
    {
     "name": "stderr",
     "output_type": "stream",
     "text": [
      "c:\\Users\\User\\anaconda3\\Lib\\site-packages\\keras\\src\\layers\\rnn\\rnn.py:200: UserWarning: Do not pass an `input_shape`/`input_dim` argument to a layer. When using Sequential models, prefer using an `Input(shape)` object as the first layer in the model instead.\n",
      "  super().__init__(**kwargs)\n"
     ]
    }
   ],
   "source": [
    "# 모델 정의\n",
    "model = Sequential([\n",
    "    SimpleRNN(64, input_shape=(window_size, 1)),\n",
    "    Dense(1)\n",
    "])\n",
    "\n",
    "model.compile(optimizer='adam', loss='mse')"
   ]
  },
  {
   "cell_type": "code",
   "execution_count": null,
   "id": "9a60b61e",
   "metadata": {},
   "outputs": [
    {
     "name": "stdout",
     "output_type": "stream",
     "text": [
      "Epoch 1/10\n",
      "\u001b[1m253/253\u001b[0m \u001b[32m━━━━━━━━━━━━━━━━━━━━\u001b[0m\u001b[37m\u001b[0m \u001b[1m2s\u001b[0m 3ms/step - loss: 0.0014 - val_loss: 1.0527e-04\n",
      "Epoch 2/10\n",
      "\u001b[1m253/253\u001b[0m \u001b[32m━━━━━━━━━━━━━━━━━━━━\u001b[0m\u001b[37m\u001b[0m \u001b[1m1s\u001b[0m 2ms/step - loss: 9.1376e-05 - val_loss: 4.6398e-05\n",
      "Epoch 3/10\n",
      "\u001b[1m253/253\u001b[0m \u001b[32m━━━━━━━━━━━━━━━━━━━━\u001b[0m\u001b[37m\u001b[0m \u001b[1m1s\u001b[0m 2ms/step - loss: 9.6973e-05 - val_loss: 4.6041e-05\n",
      "Epoch 4/10\n",
      "\u001b[1m253/253\u001b[0m \u001b[32m━━━━━━━━━━━━━━━━━━━━\u001b[0m\u001b[37m\u001b[0m \u001b[1m1s\u001b[0m 2ms/step - loss: 9.2978e-05 - val_loss: 6.0377e-05\n",
      "Epoch 5/10\n",
      "\u001b[1m253/253\u001b[0m \u001b[32m━━━━━━━━━━━━━━━━━━━━\u001b[0m\u001b[37m\u001b[0m \u001b[1m1s\u001b[0m 2ms/step - loss: 1.0465e-04 - val_loss: 4.4139e-05\n",
      "Epoch 6/10\n",
      "\u001b[1m253/253\u001b[0m \u001b[32m━━━━━━━━━━━━━━━━━━━━\u001b[0m\u001b[37m\u001b[0m \u001b[1m1s\u001b[0m 2ms/step - loss: 9.2828e-05 - val_loss: 4.0454e-05\n",
      "Epoch 7/10\n",
      "\u001b[1m253/253\u001b[0m \u001b[32m━━━━━━━━━━━━━━━━━━━━\u001b[0m\u001b[37m\u001b[0m \u001b[1m0s\u001b[0m 2ms/step - loss: 9.2735e-05 - val_loss: 6.9877e-05\n",
      "Epoch 8/10\n",
      "\u001b[1m253/253\u001b[0m \u001b[32m━━━━━━━━━━━━━━━━━━━━\u001b[0m\u001b[37m\u001b[0m \u001b[1m0s\u001b[0m 2ms/step - loss: 9.7691e-05 - val_loss: 4.2191e-05\n",
      "Epoch 9/10\n",
      "\u001b[1m253/253\u001b[0m \u001b[32m━━━━━━━━━━━━━━━━━━━━\u001b[0m\u001b[37m\u001b[0m \u001b[1m0s\u001b[0m 2ms/step - loss: 8.7959e-05 - val_loss: 3.9571e-05\n",
      "Epoch 10/10\n",
      "\u001b[1m253/253\u001b[0m \u001b[32m━━━━━━━━━━━━━━━━━━━━\u001b[0m\u001b[37m\u001b[0m \u001b[1m0s\u001b[0m 2ms/step - loss: 8.8225e-05 - val_loss: 4.0515e-05\n"
     ]
    }
   ],
   "source": [
    "# 모델 학습\n",
    "history = model.fit(X_train, y_train, epochs=10, batch_size=32, validation_data=(X_test, y_test))"
   ]
  },
  {
   "cell_type": "code",
   "execution_count": null,
   "id": "5bb09d8e",
   "metadata": {},
   "outputs": [
    {
     "name": "stdout",
     "output_type": "stream",
     "text": [
      "\u001b[1m64/64\u001b[0m \u001b[32m━━━━━━━━━━━━━━━━━━━━\u001b[0m\u001b[37m\u001b[0m \u001b[1m0s\u001b[0m 2ms/step\n"
     ]
    }
   ],
   "source": [
    "# 예측 및 역변환\n",
    "predicted = model.predict(X_test)\n",
    "predicted_rescaled = scaler.inverse_transform(predicted)\n",
    "y_test_rescaled = scaler.inverse_transform(y_test)\n"
   ]
  },
  {
   "cell_type": "code",
   "execution_count": 35,
   "id": "2a2eb6c4",
   "metadata": {},
   "outputs": [
    {
     "name": "stdout",
     "output_type": "stream",
     "text": [
      "\u001b[1m64/64\u001b[0m \u001b[32m━━━━━━━━━━━━━━━━━━━━\u001b[0m\u001b[37m\u001b[0m \u001b[1m0s\u001b[0m 1ms/step\n"
     ]
    }
   ],
   "source": [
    "predicted_test = model.predict(X_test)\n",
    "predicted_test = scaler.inverse_transform(predicted_test)\n",
    "real_test = scaler.inverse_transform(y_test)"
   ]
  },
  {
   "cell_type": "code",
   "execution_count": null,
   "id": "4348b7fb",
   "metadata": {},
   "outputs": [
    {
     "name": "stdout",
     "output_type": "stream",
     "text": [
      "Test RMSE: 0.0977841590781119\n"
     ]
    }
   ],
   "source": [
    "# 성능 평가\n",
    "from sklearn.metrics import mean_squared_error\n",
    "rmse = np.sqrt(mean_squared_error(y_test_rescaled, predicted_rescaled))\n",
    "print(\"Test RMSE:\", rmse)"
   ]
  },
  {
   "cell_type": "code",
   "execution_count": null,
   "id": "becfdf53",
   "metadata": {},
   "outputs": [
    {
     "data": {
      "image/png": "[encoded data removed]",
      "text/plain": [
       "<Figure size 1200x600 with 1 Axes>"
      ]
     },
     "metadata": {},
     "output_type": "display_data"
    }
   ],
   "source": [
    "#  시각화\n",
    "plt.figure(figsize=(12,6))\n",
    "plt.plot(y_test_rescaled, label='Actual')\n",
    "plt.plot(predicted_rescaled, label='Predicted')\n",
    "plt.legend()\n",
    "plt.title('Simple RNN - Close Price Prediction')\n",
    "plt.xlabel('Time Step')\n",
    "plt.ylabel('Close Price')\n",
    "plt.show()"
   ]
  },
  {
   "cell_type": "code",
   "execution_count": null,
   "id": "9bfd8b9a",
   "metadata": {},
   "outputs": [],
   "source": []
  },
  {
   "cell_type": "code",
   "execution_count": null,
   "id": "b76cb439",
   "metadata": {},
   "outputs": [],
   "source": []
  }
 ],
 "metadata": {
  "kernelspec": {
   "display_name": "base",
   "language": "python",
   "name": "python3"
  },
  "language_info": {
   "codemirror_mode": {
    "name": "ipython",
    "version": 3
   },
   "file_extension": ".py",
   "mimetype": "text/x-python",
   "name": "python",
   "nbconvert_exporter": "python",
   "pygments_lexer": "ipython3",
   "version": "3.11.5"
  }
 },
 "nbformat": 4,
 "nbformat_minor": 5
}
