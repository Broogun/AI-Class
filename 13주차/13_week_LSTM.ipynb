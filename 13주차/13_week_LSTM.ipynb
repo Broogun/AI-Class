{
 "cells": [
  {
   "cell_type": "code",
   "execution_count": 2,
   "id": "648a9ea4",
   "metadata": {},
   "outputs": [],
   "source": [
    "import pandas as pd\n",
    "import numpy as np\n",
    "import matplotlib.pyplot as plt\n",
    "from sklearn.preprocessing import MinMaxScaler\n",
    "import tensorflow as tf\n",
    "from tensorflow.keras.models import Sequential\n",
    "from tensorflow.keras.layers import LSTM, Dense"
   ]
  },
  {
   "cell_type": "code",
   "execution_count": 6,
   "id": "bb5f9360",
   "metadata": {},
   "outputs": [
    {
     "data": {
      "application/vnd.microsoft.datawrangler.viewer.v0+json": {
       "columns": [
        {
         "name": "index",
         "rawType": "int64",
         "type": "integer"
        },
        {
         "name": "Date",
         "rawType": "datetime64[ns]",
         "type": "datetime"
        },
        {
         "name": "Open",
         "rawType": "float64",
         "type": "float"
        },
        {
         "name": "High",
         "rawType": "float64",
         "type": "float"
        },
        {
         "name": "Low",
         "rawType": "float64",
         "type": "float"
        },
        {
         "name": "Close",
         "rawType": "float64",
         "type": "float"
        }
       ],
       "ref": "aa270ed8-e5f6-4fe2-9c28-f343698e5bf9",
       "rows": [
        [
         "0",
         "1980-03-17 00:00:00",
         "0.0",
         "4.050000190734863",
         "3.849999904632568",
         "3.849999904632568"
        ],
        [
         "1",
         "1980-03-18 00:00:00",
         "0.0",
         "4.0",
         "3.799999952316284",
         "3.799999952316284"
        ],
        [
         "2",
         "1980-03-19 00:00:00",
         "0.0",
         "4.050000190734863",
         "3.849999904632568",
         "3.849999904632568"
        ],
        [
         "3",
         "1980-03-20 00:00:00",
         "0.0",
         "4.0",
         "3.799999952316284",
         "3.799999952316284"
        ],
        [
         "4",
         "1980-03-21 00:00:00",
         "0.0",
         "3.950000047683716",
         "3.75",
         "3.75"
        ],
        [
         "5",
         "1980-03-24 00:00:00",
         "0.0",
         "3.75",
         "3.549999952316284",
         "3.549999952316284"
        ],
        [
         "6",
         "1980-03-25 00:00:00",
         "0.0",
         "3.700000047683716",
         "3.5",
         "3.5"
        ],
        [
         "7",
         "1980-03-26 00:00:00",
         "0.0",
         "3.700000047683716",
         "3.5",
         "3.5"
        ],
        [
         "8",
         "1980-03-27 00:00:00",
         "0.0",
         "3.5999999046325684",
         "3.400000095367432",
         "3.400000095367432"
        ],
        [
         "9",
         "1980-03-28 00:00:00",
         "0.0",
         "3.650000095367432",
         "3.450000047683716",
         "3.450000047683716"
        ],
        [
         "10",
         "1980-03-31 00:00:00",
         "0.0",
         "3.549999952316284",
         "3.3499999046325684",
         "3.3499999046325684"
        ],
        [
         "11",
         "1980-04-01 00:00:00",
         "0.0",
         "3.5",
         "3.299999952316284",
         "3.299999952316284"
        ],
        [
         "12",
         "1980-04-02 00:00:00",
         "0.0",
         "3.5999999046325684",
         "3.400000095367432",
         "3.400000095367432"
        ],
        [
         "13",
         "1980-04-03 00:00:00",
         "0.0",
         "3.5999999046325684",
         "3.400000095367432",
         "3.400000095367432"
        ],
        [
         "14",
         "1980-04-07 00:00:00",
         "0.0",
         "3.5",
         "3.299999952316284",
         "3.299999952316284"
        ],
        [
         "15",
         "1980-04-08 00:00:00",
         "0.0",
         "3.5",
         "3.299999952316284",
         "3.299999952316284"
        ],
        [
         "16",
         "1980-04-09 00:00:00",
         "0.0",
         "3.5",
         "3.299999952316284",
         "3.299999952316284"
        ],
        [
         "17",
         "1980-04-10 00:00:00",
         "0.0",
         "3.5",
         "3.299999952316284",
         "3.299999952316284"
        ],
        [
         "18",
         "1980-04-11 00:00:00",
         "0.0",
         "3.549999952316284",
         "3.3499999046325684",
         "3.3499999046325684"
        ],
        [
         "19",
         "1980-04-14 00:00:00",
         "0.0",
         "3.5",
         "3.299999952316284",
         "3.299999952316284"
        ],
        [
         "20",
         "1980-04-15 00:00:00",
         "0.0",
         "3.5",
         "3.299999952316284",
         "3.299999952316284"
        ],
        [
         "21",
         "1980-04-16 00:00:00",
         "0.0",
         "3.5",
         "3.299999952316284",
         "3.299999952316284"
        ],
        [
         "22",
         "1980-04-17 00:00:00",
         "0.0",
         "3.299999952316284",
         "3.0999999046325684",
         "3.0999999046325684"
        ],
        [
         "23",
         "1980-04-18 00:00:00",
         "0.0",
         "3.299999952316284",
         "3.0999999046325684",
         "3.0999999046325684"
        ],
        [
         "24",
         "1980-04-21 00:00:00",
         "0.0",
         "3.299999952316284",
         "3.0999999046325684",
         "3.0999999046325684"
        ],
        [
         "25",
         "1980-04-22 00:00:00",
         "0.0",
         "3.3499999046325684",
         "3.150000095367432",
         "3.150000095367432"
        ],
        [
         "26",
         "1980-04-23 00:00:00",
         "0.0",
         "3.400000095367432",
         "3.200000047683716",
         "3.200000047683716"
        ],
        [
         "27",
         "1980-04-24 00:00:00",
         "0.0",
         "3.299999952316284",
         "3.0999999046325684",
         "3.0999999046325684"
        ],
        [
         "28",
         "1980-04-25 00:00:00",
         "0.0",
         "3.299999952316284",
         "3.0999999046325684",
         "3.0999999046325684"
        ],
        [
         "29",
         "1980-04-28 00:00:00",
         "0.0",
         "3.299999952316284",
         "3.0999999046325684",
         "3.0999999046325684"
        ],
        [
         "30",
         "1980-04-29 00:00:00",
         "0.0",
         "3.450000047683716",
         "3.25",
         "3.25"
        ],
        [
         "31",
         "1980-04-30 00:00:00",
         "0.0",
         "3.3499999046325684",
         "3.150000095367432",
         "3.150000095367432"
        ],
        [
         "32",
         "1980-05-01 00:00:00",
         "0.0",
         "3.3499999046325684",
         "3.150000095367432",
         "3.150000095367432"
        ],
        [
         "33",
         "1980-05-02 00:00:00",
         "0.0",
         "3.3499999046325684",
         "3.150000095367432",
         "3.150000095367432"
        ],
        [
         "34",
         "1980-05-05 00:00:00",
         "0.0",
         "3.3499999046325684",
         "3.150000095367432",
         "3.150000095367432"
        ],
        [
         "35",
         "1980-05-06 00:00:00",
         "0.0",
         "3.3499999046325684",
         "3.150000095367432",
         "3.150000095367432"
        ],
        [
         "36",
         "1980-05-07 00:00:00",
         "0.0",
         "3.3499999046325684",
         "3.150000095367432",
         "3.150000095367432"
        ],
        [
         "37",
         "1980-05-08 00:00:00",
         "0.0",
         "3.400000095367432",
         "3.200000047683716",
         "3.200000047683716"
        ],
        [
         "38",
         "1980-05-09 00:00:00",
         "0.0",
         "3.400000095367432",
         "3.200000047683716",
         "3.200000047683716"
        ],
        [
         "39",
         "1980-05-12 00:00:00",
         "0.0",
         "3.450000047683716",
         "3.25",
         "3.25"
        ],
        [
         "40",
         "1980-05-13 00:00:00",
         "0.0",
         "3.450000047683716",
         "3.25",
         "3.25"
        ],
        [
         "41",
         "1980-05-14 00:00:00",
         "0.0",
         "3.549999952316284",
         "3.3499999046325684",
         "3.3499999046325684"
        ],
        [
         "42",
         "1980-05-15 00:00:00",
         "0.0",
         "3.549999952316284",
         "3.3499999046325684",
         "3.3499999046325684"
        ],
        [
         "43",
         "1980-05-16 00:00:00",
         "0.0",
         "3.549999952316284",
         "3.3499999046325684",
         "3.3499999046325684"
        ],
        [
         "44",
         "1980-05-19 00:00:00",
         "0.0",
         "3.5",
         "3.299999952316284",
         "3.299999952316284"
        ],
        [
         "45",
         "1980-05-20 00:00:00",
         "0.0",
         "3.5",
         "3.299999952316284",
         "3.299999952316284"
        ],
        [
         "46",
         "1980-05-21 00:00:00",
         "0.0",
         "3.450000047683716",
         "3.25",
         "3.25"
        ],
        [
         "47",
         "1980-05-22 00:00:00",
         "0.0",
         "3.450000047683716",
         "3.25",
         "3.25"
        ],
        [
         "48",
         "1980-05-23 00:00:00",
         "0.0",
         "3.549999952316284",
         "3.3499999046325684",
         "3.3499999046325684"
        ],
        [
         "49",
         "1980-05-27 00:00:00",
         "0.0",
         "3.5999999046325684",
         "3.400000095367432",
         "3.400000095367432"
        ]
       ],
       "shape": {
        "columns": 5,
        "rows": 10098
       }
      },
      "text/html": [
       "<div>\n",
       "<style scoped>\n",
       "    .dataframe tbody tr th:only-of-type {\n",
       "        vertical-align: middle;\n",
       "    }\n",
       "\n",
       "    .dataframe tbody tr th {\n",
       "        vertical-align: top;\n",
       "    }\n",
       "\n",
       "    .dataframe thead th {\n",
       "        text-align: right;\n",
       "    }\n",
       "</style>\n",
       "<table border=\"1\" class=\"dataframe\">\n",
       "  <thead>\n",
       "    <tr style=\"text-align: right;\">\n",
       "      <th></th>\n",
       "      <th>Date</th>\n",
       "      <th>Open</th>\n",
       "      <th>High</th>\n",
       "      <th>Low</th>\n",
       "      <th>Close</th>\n",
       "    </tr>\n",
       "  </thead>\n",
       "  <tbody>\n",
       "    <tr>\n",
       "      <th>0</th>\n",
       "      <td>1980-03-17</td>\n",
       "      <td>0.00</td>\n",
       "      <td>4.05</td>\n",
       "      <td>3.85</td>\n",
       "      <td>3.85</td>\n",
       "    </tr>\n",
       "    <tr>\n",
       "      <th>1</th>\n",
       "      <td>1980-03-18</td>\n",
       "      <td>0.00</td>\n",
       "      <td>4.00</td>\n",
       "      <td>3.80</td>\n",
       "      <td>3.80</td>\n",
       "    </tr>\n",
       "    <tr>\n",
       "      <th>2</th>\n",
       "      <td>1980-03-19</td>\n",
       "      <td>0.00</td>\n",
       "      <td>4.05</td>\n",
       "      <td>3.85</td>\n",
       "      <td>3.85</td>\n",
       "    </tr>\n",
       "    <tr>\n",
       "      <th>3</th>\n",
       "      <td>1980-03-20</td>\n",
       "      <td>0.00</td>\n",
       "      <td>4.00</td>\n",
       "      <td>3.80</td>\n",
       "      <td>3.80</td>\n",
       "    </tr>\n",
       "    <tr>\n",
       "      <th>4</th>\n",
       "      <td>1980-03-21</td>\n",
       "      <td>0.00</td>\n",
       "      <td>3.95</td>\n",
       "      <td>3.75</td>\n",
       "      <td>3.75</td>\n",
       "    </tr>\n",
       "    <tr>\n",
       "      <th>...</th>\n",
       "      <td>...</td>\n",
       "      <td>...</td>\n",
       "      <td>...</td>\n",
       "      <td>...</td>\n",
       "      <td>...</td>\n",
       "    </tr>\n",
       "    <tr>\n",
       "      <th>10093</th>\n",
       "      <td>2020-03-26</td>\n",
       "      <td>2.29</td>\n",
       "      <td>2.29</td>\n",
       "      <td>2.08</td>\n",
       "      <td>2.28</td>\n",
       "    </tr>\n",
       "    <tr>\n",
       "      <th>10094</th>\n",
       "      <td>2020-03-27</td>\n",
       "      <td>2.25</td>\n",
       "      <td>2.25</td>\n",
       "      <td>2.21</td>\n",
       "      <td>2.25</td>\n",
       "    </tr>\n",
       "    <tr>\n",
       "      <th>10095</th>\n",
       "      <td>2020-03-30</td>\n",
       "      <td>2.25</td>\n",
       "      <td>2.25</td>\n",
       "      <td>2.13</td>\n",
       "      <td>2.13</td>\n",
       "    </tr>\n",
       "    <tr>\n",
       "      <th>10096</th>\n",
       "      <td>2020-03-31</td>\n",
       "      <td>2.11</td>\n",
       "      <td>2.11</td>\n",
       "      <td>2.11</td>\n",
       "      <td>2.11</td>\n",
       "    </tr>\n",
       "    <tr>\n",
       "      <th>10097</th>\n",
       "      <td>2020-04-01</td>\n",
       "      <td>2.11</td>\n",
       "      <td>2.15</td>\n",
       "      <td>2.11</td>\n",
       "      <td>2.15</td>\n",
       "    </tr>\n",
       "  </tbody>\n",
       "</table>\n",
       "<p>10098 rows × 5 columns</p>\n",
       "</div>"
      ],
      "text/plain": [
       "            Date  Open  High   Low  Close\n",
       "0     1980-03-17  0.00  4.05  3.85   3.85\n",
       "1     1980-03-18  0.00  4.00  3.80   3.80\n",
       "2     1980-03-19  0.00  4.05  3.85   3.85\n",
       "3     1980-03-20  0.00  4.00  3.80   3.80\n",
       "4     1980-03-21  0.00  3.95  3.75   3.75\n",
       "...          ...   ...   ...   ...    ...\n",
       "10093 2020-03-26  2.29  2.29  2.08   2.28\n",
       "10094 2020-03-27  2.25  2.25  2.21   2.25\n",
       "10095 2020-03-30  2.25  2.25  2.13   2.13\n",
       "10096 2020-03-31  2.11  2.11  2.11   2.11\n",
       "10097 2020-04-01  2.11  2.15  2.11   2.15\n",
       "\n",
       "[10098 rows x 5 columns]"
      ]
     },
     "execution_count": 6,
     "metadata": {},
     "output_type": "execute_result"
    }
   ],
   "source": [
    "# 데이터 불러오기\n",
    "df = pd.read_csv('AAME.csv') \n",
    "df['Date'] = pd.to_datetime(df['Date'])\n",
    "df = df.sort_values('Date')\n",
    "df = df.drop(columns = ['Adj Close', 'Volume'])\n",
    "df"
   ]
  },
  {
   "cell_type": "code",
   "execution_count": 7,
   "id": "68414a18",
   "metadata": {},
   "outputs": [],
   "source": [
    "# 'Close' 열만 정규화\n",
    "close_data = df['Close'].values.reshape(-1, 1)\n",
    "scaler = MinMaxScaler()\n",
    "scaled_close = scaler.fit_transform(close_data)"
   ]
  },
  {
   "cell_type": "code",
   "execution_count": 8,
   "id": "2dae4f32",
   "metadata": {},
   "outputs": [],
   "source": [
    "# 시퀀스 생성 함수\n",
    "def create_sequences(data, window_size):\n",
    "    X, y = [], []\n",
    "    for i in range(len(data) - window_size):\n",
    "        X.append(data[i:i+window_size])\n",
    "        y.append(data[i+window_size])\n",
    "    return np.array(X), np.array(y)"
   ]
  },
  {
   "cell_type": "code",
   "execution_count": 9,
   "id": "f16e8f14",
   "metadata": {},
   "outputs": [],
   "source": [
    "# 윈도우 크기 및 데이터 분할\n",
    "window_size = 10\n",
    "split = int(len(scaled_close) * 0.8)\n",
    "\n",
    "train_data = scaled_close[:split]\n",
    "test_data = scaled_close[split - window_size:]\n",
    "\n",
    "X_train, y_train = create_sequences(train_data, window_size)\n",
    "X_test, y_test = create_sequences(test_data, window_size)"
   ]
  },
  {
   "cell_type": "code",
   "execution_count": null,
   "id": "c96c90c3",
   "metadata": {},
   "outputs": [
    {
     "name": "stderr",
     "output_type": "stream",
     "text": [
      "c:\\Users\\User\\anaconda3\\Lib\\site-packages\\keras\\src\\layers\\rnn\\rnn.py:200: UserWarning: Do not pass an `input_shape`/`input_dim` argument to a layer. When using Sequential models, prefer using an `Input(shape)` object as the first layer in the model instead.\n",
      "  super().__init__(**kwargs)\n"
     ]
    }
   ],
   "source": [
    "# LSTM 모델 정의\n",
    "model = Sequential([\n",
    "    LSTM(64, input_shape = (window_size, 1)),\n",
    "    Dense(1)\n",
    "])\n",
    "\n",
    "model.compile(optimizer='adam', loss='mse')"
   ]
  },
  {
   "cell_type": "code",
   "execution_count": 11,
   "id": "0b613b0e",
   "metadata": {},
   "outputs": [
    {
     "name": "stdout",
     "output_type": "stream",
     "text": [
      "Epoch 1/10\n",
      "\u001b[1m253/253\u001b[0m \u001b[32m━━━━━━━━━━━━━━━━━━━━\u001b[0m\u001b[37m\u001b[0m \u001b[1m3s\u001b[0m 5ms/step - loss: 0.0059 - val_loss: 7.9443e-05\n",
      "Epoch 2/10\n",
      "\u001b[1m253/253\u001b[0m \u001b[32m━━━━━━━━━━━━━━━━━━━━\u001b[0m\u001b[37m\u001b[0m \u001b[1m1s\u001b[0m 4ms/step - loss: 1.9100e-04 - val_loss: 9.6578e-05\n",
      "Epoch 3/10\n",
      "\u001b[1m253/253\u001b[0m \u001b[32m━━━━━━━━━━━━━━━━━━━━\u001b[0m\u001b[37m\u001b[0m \u001b[1m1s\u001b[0m 3ms/step - loss: 1.8727e-04 - val_loss: 8.2838e-05\n",
      "Epoch 4/10\n",
      "\u001b[1m253/253\u001b[0m \u001b[32m━━━━━━━━━━━━━━━━━━━━\u001b[0m\u001b[37m\u001b[0m \u001b[1m1s\u001b[0m 4ms/step - loss: 1.7249e-04 - val_loss: 1.0124e-04\n",
      "Epoch 5/10\n",
      "\u001b[1m253/253\u001b[0m \u001b[32m━━━━━━━━━━━━━━━━━━━━\u001b[0m\u001b[37m\u001b[0m \u001b[1m1s\u001b[0m 4ms/step - loss: 1.7982e-04 - val_loss: 6.6171e-05\n",
      "Epoch 6/10\n",
      "\u001b[1m253/253\u001b[0m \u001b[32m━━━━━━━━━━━━━━━━━━━━\u001b[0m\u001b[37m\u001b[0m \u001b[1m1s\u001b[0m 4ms/step - loss: 1.6037e-04 - val_loss: 7.0638e-05\n",
      "Epoch 7/10\n",
      "\u001b[1m253/253\u001b[0m \u001b[32m━━━━━━━━━━━━━━━━━━━━\u001b[0m\u001b[37m\u001b[0m \u001b[1m1s\u001b[0m 4ms/step - loss: 1.6229e-04 - val_loss: 9.8257e-05\n",
      "Epoch 8/10\n",
      "\u001b[1m253/253\u001b[0m \u001b[32m━━━━━━━━━━━━━━━━━━━━\u001b[0m\u001b[37m\u001b[0m \u001b[1m1s\u001b[0m 3ms/step - loss: 1.3744e-04 - val_loss: 1.1506e-04\n",
      "Epoch 9/10\n",
      "\u001b[1m253/253\u001b[0m \u001b[32m━━━━━━━━━━━━━━━━━━━━\u001b[0m\u001b[37m\u001b[0m \u001b[1m1s\u001b[0m 4ms/step - loss: 1.2676e-04 - val_loss: 9.8645e-05\n",
      "Epoch 10/10\n",
      "\u001b[1m253/253\u001b[0m \u001b[32m━━━━━━━━━━━━━━━━━━━━\u001b[0m\u001b[37m\u001b[0m \u001b[1m1s\u001b[0m 4ms/step - loss: 1.4564e-04 - val_loss: 8.3170e-05\n"
     ]
    }
   ],
   "source": [
    "# 학습\n",
    "history = model.fit(X_train, y_train, epochs=10, batch_size=32, validation_data = (X_test, y_test))"
   ]
  },
  {
   "cell_type": "code",
   "execution_count": 12,
   "id": "5fe59cfc",
   "metadata": {},
   "outputs": [
    {
     "name": "stdout",
     "output_type": "stream",
     "text": [
      "\u001b[1m64/64\u001b[0m \u001b[32m━━━━━━━━━━━━━━━━━━━━\u001b[0m\u001b[37m\u001b[0m \u001b[1m0s\u001b[0m 4ms/step\n"
     ]
    }
   ],
   "source": [
    "# 예측 및 복원\n",
    "predicted = model.predict(X_test)\n",
    "predicted_rescaled = scaler.inverse_transform(predicted)\n",
    "y_test_rescaled = scaler.inverse_transform(y_test)"
   ]
  },
  {
   "cell_type": "code",
   "execution_count": 13,
   "id": "413d08fe",
   "metadata": {},
   "outputs": [
    {
     "name": "stdout",
     "output_type": "stream",
     "text": [
      "Test RMSE: 0.14010254779993853\n"
     ]
    }
   ],
   "source": [
    "# RMSE 평가\n",
    "from sklearn.metrics import mean_squared_error\n",
    "rmse = np.sqrt(mean_squared_error(y_test_rescaled, predicted_rescaled))\n",
    "print(\"Test RMSE:\", rmse)"
   ]
  },
  {
   "cell_type": "code",
   "execution_count": null,
   "id": "3ddafa62",
   "metadata": {},
   "outputs": [
    {
     "data": {
      "image/png": "[encoded data removed]",
      "text/plain": [
       "<Figure size 1200x600 with 1 Axes>"
      ]
     },
     "metadata": {},
     "output_type": "display_data"
    }
   ],
   "source": [
    "# 결과 시각화\n",
    "plt.figure(figsize = (12,6))\n",
    "plt.plot(y_test_rescaled, label = 'Actual')\n",
    "plt.plot(predicted_rescaled, label = 'Predicted')\n",
    "plt.legend()\n",
    "plt.title('LSTM - Close Price Prediction')\n",
    "plt.xlabel('Time Step')\n",
    "plt.ylabel('Close Price')\n",
    "plt.show()"
   ]
  },
  {
   "cell_type": "code",
   "execution_count": null,
   "id": "e6dff665",
   "metadata": {},
   "outputs": [],
   "source": []
  },
  {
   "cell_type": "code",
   "execution_count": null,
   "id": "4e2c46b5",
   "metadata": {},
   "outputs": [],
   "source": []
  },
  {
   "cell_type": "code",
   "execution_count": null,
   "id": "8ae89c11",
   "metadata": {},
   "outputs": [],
   "source": []
  },
  {
   "cell_type": "code",
   "execution_count": null,
   "id": "fdcb51df",
   "metadata": {},
   "outputs": [],
   "source": []
  }
 ],
 "metadata": {
  "kernelspec": {
   "display_name": "base",
   "language": "python",
   "name": "python3"
  },
  "language_info": {
   "codemirror_mode": {
    "name": "ipython",
    "version": 3
   },
   "file_extension": ".py",
   "mimetype": "text/x-python",
   "name": "python",
   "nbconvert_exporter": "python",
   "pygments_lexer": "ipython3",
   "version": "3.11.5"
  }
 },
 "nbformat": 4,
 "nbformat_minor": 5
}
